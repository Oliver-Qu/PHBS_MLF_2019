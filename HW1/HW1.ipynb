{
 "cells": [
  {
   "cell_type": "markdown",
   "metadata": {},
   "source": [
    "# HW1"
   ]
  },
  {
   "cell_type": "code",
   "execution_count": 1,
   "metadata": {},
   "outputs": [],
   "source": [
    "from scipy.io import arff\n",
    "import pandas as pd\n",
    "import numpy"
   ]
  },
  {
   "cell_type": "markdown",
   "metadata": {},
   "source": [
    "#### Create a new dataframe with only 4 feataures (and and Bankruptcy). "
   ]
  },
  {
   "cell_type": "code",
   "execution_count": 2,
   "metadata": {},
   "outputs": [
    {
     "data": {
      "text/html": [
       "<div>\n",
       "<style scoped>\n",
       "    .dataframe tbody tr th:only-of-type {\n",
       "        vertical-align: middle;\n",
       "    }\n",
       "\n",
       "    .dataframe tbody tr th {\n",
       "        vertical-align: top;\n",
       "    }\n",
       "\n",
       "    .dataframe thead th {\n",
       "        text-align: right;\n",
       "    }\n",
       "</style>\n",
       "<table border=\"1\" class=\"dataframe\">\n",
       "  <thead>\n",
       "    <tr style=\"text-align: right;\">\n",
       "      <th></th>\n",
       "      <th>Attr1</th>\n",
       "      <th>Attr2</th>\n",
       "      <th>Attr7</th>\n",
       "      <th>Attr10</th>\n",
       "      <th>class</th>\n",
       "    </tr>\n",
       "  </thead>\n",
       "  <tbody>\n",
       "    <tr>\n",
       "      <td>0</td>\n",
       "      <td>0.159290</td>\n",
       "      <td>0.46240</td>\n",
       "      <td>0.189480</td>\n",
       "      <td>0.38330</td>\n",
       "      <td>b'0'</td>\n",
       "    </tr>\n",
       "    <tr>\n",
       "      <td>1</td>\n",
       "      <td>-0.127430</td>\n",
       "      <td>0.46243</td>\n",
       "      <td>-0.127430</td>\n",
       "      <td>0.53757</td>\n",
       "      <td>b'0'</td>\n",
       "    </tr>\n",
       "    <tr>\n",
       "      <td>2</td>\n",
       "      <td>0.070488</td>\n",
       "      <td>0.23570</td>\n",
       "      <td>0.086895</td>\n",
       "      <td>0.67689</td>\n",
       "      <td>b'0'</td>\n",
       "    </tr>\n",
       "    <tr>\n",
       "      <td>3</td>\n",
       "      <td>0.136760</td>\n",
       "      <td>0.40538</td>\n",
       "      <td>0.136760</td>\n",
       "      <td>0.58938</td>\n",
       "      <td>b'0'</td>\n",
       "    </tr>\n",
       "    <tr>\n",
       "      <td>4</td>\n",
       "      <td>-0.110080</td>\n",
       "      <td>0.69793</td>\n",
       "      <td>-0.110080</td>\n",
       "      <td>0.30207</td>\n",
       "      <td>b'0'</td>\n",
       "    </tr>\n",
       "    <tr>\n",
       "      <td>...</td>\n",
       "      <td>...</td>\n",
       "      <td>...</td>\n",
       "      <td>...</td>\n",
       "      <td>...</td>\n",
       "      <td>...</td>\n",
       "    </tr>\n",
       "    <tr>\n",
       "      <td>9787</td>\n",
       "      <td>0.004676</td>\n",
       "      <td>0.54949</td>\n",
       "      <td>0.013002</td>\n",
       "      <td>0.43205</td>\n",
       "      <td>b'1'</td>\n",
       "    </tr>\n",
       "    <tr>\n",
       "      <td>9788</td>\n",
       "      <td>-0.027610</td>\n",
       "      <td>0.60748</td>\n",
       "      <td>-0.027610</td>\n",
       "      <td>0.33509</td>\n",
       "      <td>b'1'</td>\n",
       "    </tr>\n",
       "    <tr>\n",
       "      <td>9789</td>\n",
       "      <td>-0.238290</td>\n",
       "      <td>0.62708</td>\n",
       "      <td>-0.240360</td>\n",
       "      <td>0.17760</td>\n",
       "      <td>b'1'</td>\n",
       "    </tr>\n",
       "    <tr>\n",
       "      <td>9790</td>\n",
       "      <td>0.097188</td>\n",
       "      <td>0.75300</td>\n",
       "      <td>0.104280</td>\n",
       "      <td>0.24700</td>\n",
       "      <td>b'1'</td>\n",
       "    </tr>\n",
       "    <tr>\n",
       "      <td>9791</td>\n",
       "      <td>0.021416</td>\n",
       "      <td>0.48678</td>\n",
       "      <td>0.027253</td>\n",
       "      <td>0.51267</td>\n",
       "      <td>b'1'</td>\n",
       "    </tr>\n",
       "  </tbody>\n",
       "</table>\n",
       "<p>9792 rows × 5 columns</p>\n",
       "</div>"
      ],
      "text/plain": [
       "         Attr1    Attr2     Attr7   Attr10 class\n",
       "0     0.159290  0.46240  0.189480  0.38330  b'0'\n",
       "1    -0.127430  0.46243 -0.127430  0.53757  b'0'\n",
       "2     0.070488  0.23570  0.086895  0.67689  b'0'\n",
       "3     0.136760  0.40538  0.136760  0.58938  b'0'\n",
       "4    -0.110080  0.69793 -0.110080  0.30207  b'0'\n",
       "...        ...      ...       ...      ...   ...\n",
       "9787  0.004676  0.54949  0.013002  0.43205  b'1'\n",
       "9788 -0.027610  0.60748 -0.027610  0.33509  b'1'\n",
       "9789 -0.238290  0.62708 -0.240360  0.17760  b'1'\n",
       "9790  0.097188  0.75300  0.104280  0.24700  b'1'\n",
       "9791  0.021416  0.48678  0.027253  0.51267  b'1'\n",
       "\n",
       "[9792 rows x 5 columns]"
      ]
     },
     "execution_count": 2,
     "metadata": {},
     "output_type": "execute_result"
    }
   ],
   "source": [
    "data = arff.loadarff('4year.arff')\n",
    "df = pd.DataFrame(data[0],columns=['Attr1', 'Attr2', 'Attr7','Attr10','class'])\n",
    "df"
   ]
  },
  {
   "cell_type": "markdown",
   "metadata": {},
   "source": [
    "#### Fill-in the missing values na with the mean."
   ]
  },
  {
   "cell_type": "code",
   "execution_count": 3,
   "metadata": {},
   "outputs": [
    {
     "data": {
      "text/plain": [
       "Attr1     1\n",
       "Attr2     1\n",
       "Attr7     1\n",
       "Attr10    1\n",
       "class     0\n",
       "dtype: int64"
      ]
     },
     "execution_count": 3,
     "metadata": {},
     "output_type": "execute_result"
    }
   ],
   "source": [
    "df.isnull().sum()"
   ]
  },
  {
   "cell_type": "code",
   "execution_count": 4,
   "metadata": {},
   "outputs": [
    {
     "name": "stderr",
     "output_type": "stream",
     "text": [
      "C:\\ProgramData\\Anaconda3\\lib\\site-packages\\sklearn\\utils\\deprecation.py:66: DeprecationWarning: Class Imputer is deprecated; Imputer was deprecated in version 0.20 and will be removed in 0.22. Import impute.SimpleImputer from sklearn instead.\n",
      "  warnings.warn(msg, category=DeprecationWarning)\n"
     ]
    },
    {
     "data": {
      "text/plain": [
       "array([[ 0.15929 ,  0.4624  ,  0.18948 ,  0.3833  ,  0.      ],\n",
       "       [-0.12743 ,  0.46243 , -0.12743 ,  0.53757 ,  0.      ],\n",
       "       [ 0.070488,  0.2357  ,  0.086895,  0.67689 ,  0.      ],\n",
       "       ...,\n",
       "       [-0.23829 ,  0.62708 , -0.24036 ,  0.1776  ,  1.      ],\n",
       "       [ 0.097188,  0.753   ,  0.10428 ,  0.247   ,  1.      ],\n",
       "       [ 0.021416,  0.48678 ,  0.027253,  0.51267 ,  1.      ]])"
      ]
     },
     "execution_count": 4,
     "metadata": {},
     "output_type": "execute_result"
    }
   ],
   "source": [
    "from sklearn.preprocessing import Imputer\n",
    "imr = Imputer(missing_values='NaN', strategy='mean', axis=0)\n",
    "imr = imr.fit(df.values)\n",
    "df1 = imr.transform(df.values)\n",
    "df1"
   ]
  },
  {
   "cell_type": "code",
   "execution_count": 5,
   "metadata": {},
   "outputs": [
    {
     "data": {
      "text/html": [
       "<div>\n",
       "<style scoped>\n",
       "    .dataframe tbody tr th:only-of-type {\n",
       "        vertical-align: middle;\n",
       "    }\n",
       "\n",
       "    .dataframe tbody tr th {\n",
       "        vertical-align: top;\n",
       "    }\n",
       "\n",
       "    .dataframe thead th {\n",
       "        text-align: right;\n",
       "    }\n",
       "</style>\n",
       "<table border=\"1\" class=\"dataframe\">\n",
       "  <thead>\n",
       "    <tr style=\"text-align: right;\">\n",
       "      <th></th>\n",
       "      <th>0</th>\n",
       "      <th>1</th>\n",
       "      <th>2</th>\n",
       "      <th>3</th>\n",
       "      <th>4</th>\n",
       "    </tr>\n",
       "  </thead>\n",
       "  <tbody>\n",
       "    <tr>\n",
       "      <td>0</td>\n",
       "      <td>0.159290</td>\n",
       "      <td>0.46240</td>\n",
       "      <td>0.189480</td>\n",
       "      <td>0.38330</td>\n",
       "      <td>0.0</td>\n",
       "    </tr>\n",
       "    <tr>\n",
       "      <td>1</td>\n",
       "      <td>-0.127430</td>\n",
       "      <td>0.46243</td>\n",
       "      <td>-0.127430</td>\n",
       "      <td>0.53757</td>\n",
       "      <td>0.0</td>\n",
       "    </tr>\n",
       "    <tr>\n",
       "      <td>2</td>\n",
       "      <td>0.070488</td>\n",
       "      <td>0.23570</td>\n",
       "      <td>0.086895</td>\n",
       "      <td>0.67689</td>\n",
       "      <td>0.0</td>\n",
       "    </tr>\n",
       "    <tr>\n",
       "      <td>3</td>\n",
       "      <td>0.136760</td>\n",
       "      <td>0.40538</td>\n",
       "      <td>0.136760</td>\n",
       "      <td>0.58938</td>\n",
       "      <td>0.0</td>\n",
       "    </tr>\n",
       "    <tr>\n",
       "      <td>4</td>\n",
       "      <td>-0.110080</td>\n",
       "      <td>0.69793</td>\n",
       "      <td>-0.110080</td>\n",
       "      <td>0.30207</td>\n",
       "      <td>0.0</td>\n",
       "    </tr>\n",
       "    <tr>\n",
       "      <td>...</td>\n",
       "      <td>...</td>\n",
       "      <td>...</td>\n",
       "      <td>...</td>\n",
       "      <td>...</td>\n",
       "      <td>...</td>\n",
       "    </tr>\n",
       "    <tr>\n",
       "      <td>9787</td>\n",
       "      <td>0.004676</td>\n",
       "      <td>0.54949</td>\n",
       "      <td>0.013002</td>\n",
       "      <td>0.43205</td>\n",
       "      <td>1.0</td>\n",
       "    </tr>\n",
       "    <tr>\n",
       "      <td>9788</td>\n",
       "      <td>-0.027610</td>\n",
       "      <td>0.60748</td>\n",
       "      <td>-0.027610</td>\n",
       "      <td>0.33509</td>\n",
       "      <td>1.0</td>\n",
       "    </tr>\n",
       "    <tr>\n",
       "      <td>9789</td>\n",
       "      <td>-0.238290</td>\n",
       "      <td>0.62708</td>\n",
       "      <td>-0.240360</td>\n",
       "      <td>0.17760</td>\n",
       "      <td>1.0</td>\n",
       "    </tr>\n",
       "    <tr>\n",
       "      <td>9790</td>\n",
       "      <td>0.097188</td>\n",
       "      <td>0.75300</td>\n",
       "      <td>0.104280</td>\n",
       "      <td>0.24700</td>\n",
       "      <td>1.0</td>\n",
       "    </tr>\n",
       "    <tr>\n",
       "      <td>9791</td>\n",
       "      <td>0.021416</td>\n",
       "      <td>0.48678</td>\n",
       "      <td>0.027253</td>\n",
       "      <td>0.51267</td>\n",
       "      <td>1.0</td>\n",
       "    </tr>\n",
       "  </tbody>\n",
       "</table>\n",
       "<p>9792 rows × 5 columns</p>\n",
       "</div>"
      ],
      "text/plain": [
       "             0        1         2        3    4\n",
       "0     0.159290  0.46240  0.189480  0.38330  0.0\n",
       "1    -0.127430  0.46243 -0.127430  0.53757  0.0\n",
       "2     0.070488  0.23570  0.086895  0.67689  0.0\n",
       "3     0.136760  0.40538  0.136760  0.58938  0.0\n",
       "4    -0.110080  0.69793 -0.110080  0.30207  0.0\n",
       "...        ...      ...       ...      ...  ...\n",
       "9787  0.004676  0.54949  0.013002  0.43205  1.0\n",
       "9788 -0.027610  0.60748 -0.027610  0.33509  1.0\n",
       "9789 -0.238290  0.62708 -0.240360  0.17760  1.0\n",
       "9790  0.097188  0.75300  0.104280  0.24700  1.0\n",
       "9791  0.021416  0.48678  0.027253  0.51267  1.0\n",
       "\n",
       "[9792 rows x 5 columns]"
      ]
     },
     "execution_count": 5,
     "metadata": {},
     "output_type": "execute_result"
    }
   ],
   "source": [
    "df2 = pd.DataFrame(df1)\n",
    "df2"
   ]
  },
  {
   "cell_type": "code",
   "execution_count": 6,
   "metadata": {},
   "outputs": [
    {
     "data": {
      "text/plain": [
       "0    0\n",
       "1    0\n",
       "2    0\n",
       "3    0\n",
       "4    0\n",
       "dtype: int64"
      ]
     },
     "execution_count": 6,
     "metadata": {},
     "output_type": "execute_result"
    }
   ],
   "source": [
    "df2.isnull().sum()"
   ]
  },
  {
   "cell_type": "markdown",
   "metadata": {},
   "source": [
    "#### Properly rename the columns to X1, X2, X7, and X10."
   ]
  },
  {
   "cell_type": "code",
   "execution_count": 7,
   "metadata": {},
   "outputs": [
    {
     "data": {
      "text/html": [
       "<div>\n",
       "<style scoped>\n",
       "    .dataframe tbody tr th:only-of-type {\n",
       "        vertical-align: middle;\n",
       "    }\n",
       "\n",
       "    .dataframe tbody tr th {\n",
       "        vertical-align: top;\n",
       "    }\n",
       "\n",
       "    .dataframe thead th {\n",
       "        text-align: right;\n",
       "    }\n",
       "</style>\n",
       "<table border=\"1\" class=\"dataframe\">\n",
       "  <thead>\n",
       "    <tr style=\"text-align: right;\">\n",
       "      <th></th>\n",
       "      <th>net profit / total assets</th>\n",
       "      <th>total liabilities / total assets</th>\n",
       "      <th>EBIT / total assets</th>\n",
       "      <th>equity / total assets</th>\n",
       "      <th>class</th>\n",
       "    </tr>\n",
       "  </thead>\n",
       "  <tbody>\n",
       "    <tr>\n",
       "      <td>0</td>\n",
       "      <td>0.159290</td>\n",
       "      <td>0.46240</td>\n",
       "      <td>0.189480</td>\n",
       "      <td>0.38330</td>\n",
       "      <td>0.0</td>\n",
       "    </tr>\n",
       "    <tr>\n",
       "      <td>1</td>\n",
       "      <td>-0.127430</td>\n",
       "      <td>0.46243</td>\n",
       "      <td>-0.127430</td>\n",
       "      <td>0.53757</td>\n",
       "      <td>0.0</td>\n",
       "    </tr>\n",
       "    <tr>\n",
       "      <td>2</td>\n",
       "      <td>0.070488</td>\n",
       "      <td>0.23570</td>\n",
       "      <td>0.086895</td>\n",
       "      <td>0.67689</td>\n",
       "      <td>0.0</td>\n",
       "    </tr>\n",
       "    <tr>\n",
       "      <td>3</td>\n",
       "      <td>0.136760</td>\n",
       "      <td>0.40538</td>\n",
       "      <td>0.136760</td>\n",
       "      <td>0.58938</td>\n",
       "      <td>0.0</td>\n",
       "    </tr>\n",
       "    <tr>\n",
       "      <td>4</td>\n",
       "      <td>-0.110080</td>\n",
       "      <td>0.69793</td>\n",
       "      <td>-0.110080</td>\n",
       "      <td>0.30207</td>\n",
       "      <td>0.0</td>\n",
       "    </tr>\n",
       "    <tr>\n",
       "      <td>...</td>\n",
       "      <td>...</td>\n",
       "      <td>...</td>\n",
       "      <td>...</td>\n",
       "      <td>...</td>\n",
       "      <td>...</td>\n",
       "    </tr>\n",
       "    <tr>\n",
       "      <td>9787</td>\n",
       "      <td>0.004676</td>\n",
       "      <td>0.54949</td>\n",
       "      <td>0.013002</td>\n",
       "      <td>0.43205</td>\n",
       "      <td>1.0</td>\n",
       "    </tr>\n",
       "    <tr>\n",
       "      <td>9788</td>\n",
       "      <td>-0.027610</td>\n",
       "      <td>0.60748</td>\n",
       "      <td>-0.027610</td>\n",
       "      <td>0.33509</td>\n",
       "      <td>1.0</td>\n",
       "    </tr>\n",
       "    <tr>\n",
       "      <td>9789</td>\n",
       "      <td>-0.238290</td>\n",
       "      <td>0.62708</td>\n",
       "      <td>-0.240360</td>\n",
       "      <td>0.17760</td>\n",
       "      <td>1.0</td>\n",
       "    </tr>\n",
       "    <tr>\n",
       "      <td>9790</td>\n",
       "      <td>0.097188</td>\n",
       "      <td>0.75300</td>\n",
       "      <td>0.104280</td>\n",
       "      <td>0.24700</td>\n",
       "      <td>1.0</td>\n",
       "    </tr>\n",
       "    <tr>\n",
       "      <td>9791</td>\n",
       "      <td>0.021416</td>\n",
       "      <td>0.48678</td>\n",
       "      <td>0.027253</td>\n",
       "      <td>0.51267</td>\n",
       "      <td>1.0</td>\n",
       "    </tr>\n",
       "  </tbody>\n",
       "</table>\n",
       "<p>9792 rows × 5 columns</p>\n",
       "</div>"
      ],
      "text/plain": [
       "      net profit / total assets  total liabilities / total assets  \\\n",
       "0                      0.159290                           0.46240   \n",
       "1                     -0.127430                           0.46243   \n",
       "2                      0.070488                           0.23570   \n",
       "3                      0.136760                           0.40538   \n",
       "4                     -0.110080                           0.69793   \n",
       "...                         ...                               ...   \n",
       "9787                   0.004676                           0.54949   \n",
       "9788                  -0.027610                           0.60748   \n",
       "9789                  -0.238290                           0.62708   \n",
       "9790                   0.097188                           0.75300   \n",
       "9791                   0.021416                           0.48678   \n",
       "\n",
       "      EBIT / total assets  equity / total assets  class  \n",
       "0                0.189480                0.38330    0.0  \n",
       "1               -0.127430                0.53757    0.0  \n",
       "2                0.086895                0.67689    0.0  \n",
       "3                0.136760                0.58938    0.0  \n",
       "4               -0.110080                0.30207    0.0  \n",
       "...                   ...                    ...    ...  \n",
       "9787             0.013002                0.43205    1.0  \n",
       "9788            -0.027610                0.33509    1.0  \n",
       "9789            -0.240360                0.17760    1.0  \n",
       "9790             0.104280                0.24700    1.0  \n",
       "9791             0.027253                0.51267    1.0  \n",
       "\n",
       "[9792 rows x 5 columns]"
      ]
     },
     "execution_count": 7,
     "metadata": {},
     "output_type": "execute_result"
    }
   ],
   "source": [
    "df2.columns=['net profit / total assets','total liabilities / total assets','EBIT / total assets','equity / total assets','class']\n",
    "df2"
   ]
  },
  {
   "cell_type": "markdown",
   "metadata": {},
   "source": [
    "#### Find the mean and std of the 4 features among all, bankrupt and still-operating companies (3 groups)."
   ]
  },
  {
   "cell_type": "code",
   "execution_count": 8,
   "metadata": {},
   "outputs": [
    {
     "name": "stdout",
     "output_type": "stream",
     "text": [
      "mean:\n",
      " net profit / total assets           0.043019\n",
      "total liabilities / total assets    0.596404\n",
      "EBIT / total assets                 0.059446\n",
      "equity / total assets               0.389040\n",
      "class                               0.052594\n",
      "dtype: float64\n",
      "\n",
      "\n",
      "std:\n",
      " net profit / total assets           0.359303\n",
      "total liabilities / total assets    4.586887\n",
      "EBIT / total assets                 0.533317\n",
      "equity / total assets               4.590064\n",
      "class                               0.223233\n",
      "dtype: float64\n"
     ]
    }
   ],
   "source": [
    "print(\"mean:\\n\",df2.mean())\n",
    "print(\"\\n\")\n",
    "print(\"std:\\n\",df2.std())"
   ]
  },
  {
   "cell_type": "code",
   "execution_count": 9,
   "metadata": {},
   "outputs": [
    {
     "name": "stdout",
     "output_type": "stream",
     "text": [
      "mean:\n",
      " net profit / total assets          -0.068873\n",
      "total liabilities / total assets    0.878355\n",
      "EBIT / total assets                -0.061538\n",
      "equity / total assets               0.103367\n",
      "class                               1.000000\n",
      "dtype: float64\n",
      "\n",
      "\n",
      "std:\n",
      " net profit / total assets           0.568076\n",
      "total liabilities / total assets    1.945596\n",
      "EBIT / total assets                 0.568432\n",
      "equity / total assets               1.946747\n",
      "class                               0.000000\n",
      "dtype: float64\n"
     ]
    }
   ],
   "source": [
    "df3 = df2[df2['class']==1.0]\n",
    "print(\"mean:\\n\",df3.mean())\n",
    "print(\"\\n\")\n",
    "print(\"std:\\n\",df3.std())"
   ]
  },
  {
   "cell_type": "code",
   "execution_count": 10,
   "metadata": {},
   "outputs": [
    {
     "name": "stdout",
     "output_type": "stream",
     "text": [
      "mean:\n",
      " net profit / total assets           0.049231\n",
      "total liabilities / total assets    0.580752\n",
      "EBIT / total assets                 0.066162\n",
      "equity / total assets               0.404899\n",
      "class                               0.000000\n",
      "dtype: float64\n",
      "\n",
      "\n",
      "std:\n",
      " net profit / total assets           0.343002\n",
      "total liabilities / total assets    4.689694\n",
      "EBIT / total assets                 0.530524\n",
      "equity / total assets               4.692934\n",
      "class                               0.000000\n",
      "dtype: float64\n"
     ]
    }
   ],
   "source": [
    "df4 = df2[df2['class']==0.0]\n",
    "print(\"mean:\\n\",df4.mean())\n",
    "print(\"\\n\")\n",
    "print(\"std:\\n\",df4.std())"
   ]
  },
  {
   "cell_type": "markdown",
   "metadata": {},
   "source": [
    "#### How many companies have X1 values 1 std below the mean AND X10 values 1 std below the mean?"
   ]
  },
  {
   "cell_type": "code",
   "execution_count": 11,
   "metadata": {},
   "outputs": [
    {
     "data": {
      "text/plain": [
       "284"
      ]
     },
     "execution_count": 11,
     "metadata": {},
     "output_type": "execute_result"
    }
   ],
   "source": [
    "x1mean = df2['net profit / total assets'].mean()\n",
    "x1std = df2['net profit / total assets'].std()\n",
    "sum((df2['net profit / total assets']<(x1mean-x1std)) == True)"
   ]
  },
  {
   "cell_type": "code",
   "execution_count": 12,
   "metadata": {},
   "outputs": [
    {
     "data": {
      "text/plain": [
       "24"
      ]
     },
     "execution_count": 12,
     "metadata": {},
     "output_type": "execute_result"
    }
   ],
   "source": [
    "x10mean = df2['equity / total assets'].mean()\n",
    "x10std = df2['equity / total assets'].std()\n",
    "sum((df2['equity / total assets']<(x10mean-x10std)) == True)"
   ]
  },
  {
   "cell_type": "markdown",
   "metadata": {},
   "source": [
    "#### What is the ratio of the bankrupted companies among the sub-groups above?"
   ]
  },
  {
   "cell_type": "code",
   "execution_count": 13,
   "metadata": {},
   "outputs": [
    {
     "data": {
      "text/plain": [
       "0.052593954248366014"
      ]
     },
     "execution_count": 13,
     "metadata": {},
     "output_type": "execute_result"
    }
   ],
   "source": [
    "sum((df2['class']==1.0) == True)/(sum((df2['class']==1.0) == True) + sum((df2['class']==0.0) == True))"
   ]
  }
 ],
 "metadata": {
  "kernelspec": {
   "display_name": "Python 3",
   "language": "python",
   "name": "python3"
  },
  "language_info": {
   "codemirror_mode": {
    "name": "ipython",
    "version": 3
   },
   "file_extension": ".py",
   "mimetype": "text/x-python",
   "name": "python",
   "nbconvert_exporter": "python",
   "pygments_lexer": "ipython3",
   "version": "3.7.4"
  }
 },
 "nbformat": 4,
 "nbformat_minor": 2
}
